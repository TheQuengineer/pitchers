{
 "cells": [
  {
   "cell_type": "markdown",
   "metadata": {},
   "source": [
    "## MSDS 7330 \n",
    "\n",
    "\n",
    "\n",
    "##  2018 MLB Pitchers Data Creation\n",
    "\n",
    "\n",
    "In order to Get Started the MYSQL Databased must be created. This Jupyter notebook uses python 3, so if you don't have python 3 installed on your machine you might run into issues, as this was not tested on earlier versions. After Following the steps of this notebook you should be able to have all the data set up in your local database."
   ]
  },
  {
   "cell_type": "markdown",
   "metadata": {},
   "source": [
    "Make sure the following Packages are installed on your machine. If you are missing one you can install it by runnint either ```pip install <package>``` or ``` conda install <package>``` if you are using conda package manager."
   ]
  },
  {
   "cell_type": "code",
   "execution_count": 1,
   "metadata": {},
   "outputs": [],
   "source": [
    "import pandas as pd\n",
    "import xlrd\n",
    "import sqlalchemy\n",
    "import mysql.connector"
   ]
  },
  {
   "cell_type": "markdown",
   "metadata": {},
   "source": [
    "Next, import that pitcher data from the `data` directory"
   ]
  },
  {
   "cell_type": "code",
   "execution_count": 2,
   "metadata": {},
   "outputs": [],
   "source": [
    "df = pd.read_excel(\"data/2018_pitching.xlsx\", \"mlb_stats_2018\")"
   ]
  },
  {
   "cell_type": "markdown",
   "metadata": {},
   "source": [
    "Get the shape of the data."
   ]
  },
  {
   "cell_type": "code",
   "execution_count": 3,
   "metadata": {},
   "outputs": [
    {
     "data": {
      "text/plain": [
       "(878, 36)"
      ]
     },
     "execution_count": 3,
     "metadata": {},
     "output_type": "execute_result"
    }
   ],
   "source": [
    "df.shape"
   ]
  },
  {
   "cell_type": "markdown",
   "metadata": {},
   "source": [
    "Run the next line in order to check if there is missing values in the dataframe."
   ]
  },
  {
   "cell_type": "code",
   "execution_count": 4,
   "metadata": {},
   "outputs": [
    {
     "data": {
      "text/plain": [
       "True"
      ]
     },
     "execution_count": 4,
     "metadata": {},
     "output_type": "execute_result"
    }
   ],
   "source": [
    "df.isnull().values.any()"
   ]
  },
  {
   "cell_type": "markdown",
   "metadata": {},
   "source": [
    "We know data is missing so lets count the missing items in each column."
   ]
  },
  {
   "cell_type": "code",
   "execution_count": 5,
   "metadata": {},
   "outputs": [
    {
     "data": {
      "text/plain": [
       "Rk               0\n",
       "Name             0\n",
       "2018_salary    357\n",
       "Age              0\n",
       "Tm               0\n",
       "Lg               0\n",
       "W                0\n",
       "L                0\n",
       "W-L%           217\n",
       "ERA              0\n",
       "G                0\n",
       "GS               0\n",
       "GF               0\n",
       "CG               0\n",
       "SHO              0\n",
       "SV               0\n",
       "IP               0\n",
       "H                0\n",
       "R                0\n",
       "ER               0\n",
       "HR               0\n",
       "BB               0\n",
       "IBB              0\n",
       "SO               0\n",
       "HBP              0\n",
       "BK               0\n",
       "WP               0\n",
       "BF               0\n",
       "ERA+            53\n",
       "FIP              2\n",
       "WHIP             2\n",
       "H9               2\n",
       "HR9              2\n",
       "BB9              2\n",
       "SO9              2\n",
       "SO/W            56\n",
       "dtype: int64"
      ]
     },
     "execution_count": 5,
     "metadata": {},
     "output_type": "execute_result"
    }
   ],
   "source": [
    "df.isnull().sum()"
   ]
  },
  {
   "cell_type": "markdown",
   "metadata": {},
   "source": [
    "We remove the records with missing values from the column."
   ]
  },
  {
   "cell_type": "code",
   "execution_count": 6,
   "metadata": {},
   "outputs": [],
   "source": [
    "df = df.dropna()"
   ]
  },
  {
   "cell_type": "code",
   "execution_count": 7,
   "metadata": {},
   "outputs": [
    {
     "data": {
      "text/plain": [
       "Rk             0\n",
       "Name           0\n",
       "2018_salary    0\n",
       "Age            0\n",
       "Tm             0\n",
       "Lg             0\n",
       "W              0\n",
       "L              0\n",
       "W-L%           0\n",
       "ERA            0\n",
       "G              0\n",
       "GS             0\n",
       "GF             0\n",
       "CG             0\n",
       "SHO            0\n",
       "SV             0\n",
       "IP             0\n",
       "H              0\n",
       "R              0\n",
       "ER             0\n",
       "HR             0\n",
       "BB             0\n",
       "IBB            0\n",
       "SO             0\n",
       "HBP            0\n",
       "BK             0\n",
       "WP             0\n",
       "BF             0\n",
       "ERA+           0\n",
       "FIP            0\n",
       "WHIP           0\n",
       "H9             0\n",
       "HR9            0\n",
       "BB9            0\n",
       "SO9            0\n",
       "SO/W           0\n",
       "dtype: int64"
      ]
     },
     "execution_count": 7,
     "metadata": {},
     "output_type": "execute_result"
    }
   ],
   "source": [
    "df.isnull().sum()"
   ]
  },
  {
   "cell_type": "markdown",
   "metadata": {},
   "source": [
    "All missing values have been dropped from the dataset."
   ]
  },
  {
   "cell_type": "code",
   "execution_count": 8,
   "metadata": {},
   "outputs": [
    {
     "data": {
      "text/plain": [
       "(446, 36)"
      ]
     },
     "execution_count": 8,
     "metadata": {},
     "output_type": "execute_result"
    }
   ],
   "source": [
    "df.shape"
   ]
  },
  {
   "cell_type": "code",
   "execution_count": 9,
   "metadata": {},
   "outputs": [
    {
     "data": {
      "text/html": [
       "<div>\n",
       "<style scoped>\n",
       "    .dataframe tbody tr th:only-of-type {\n",
       "        vertical-align: middle;\n",
       "    }\n",
       "\n",
       "    .dataframe tbody tr th {\n",
       "        vertical-align: top;\n",
       "    }\n",
       "\n",
       "    .dataframe thead th {\n",
       "        text-align: right;\n",
       "    }\n",
       "</style>\n",
       "<table border=\"1\" class=\"dataframe\">\n",
       "  <thead>\n",
       "    <tr style=\"text-align: right;\">\n",
       "      <th></th>\n",
       "      <th>Rk</th>\n",
       "      <th>2018_salary</th>\n",
       "      <th>Age</th>\n",
       "      <th>W</th>\n",
       "      <th>L</th>\n",
       "      <th>W-L%</th>\n",
       "      <th>ERA</th>\n",
       "      <th>G</th>\n",
       "      <th>GS</th>\n",
       "      <th>GF</th>\n",
       "      <th>...</th>\n",
       "      <th>WP</th>\n",
       "      <th>BF</th>\n",
       "      <th>ERA+</th>\n",
       "      <th>FIP</th>\n",
       "      <th>WHIP</th>\n",
       "      <th>H9</th>\n",
       "      <th>HR9</th>\n",
       "      <th>BB9</th>\n",
       "      <th>SO9</th>\n",
       "      <th>SO/W</th>\n",
       "    </tr>\n",
       "  </thead>\n",
       "  <tbody>\n",
       "    <tr>\n",
       "      <th>count</th>\n",
       "      <td>446.000000</td>\n",
       "      <td>4.460000e+02</td>\n",
       "      <td>446.000000</td>\n",
       "      <td>446.000000</td>\n",
       "      <td>446.000000</td>\n",
       "      <td>446.000000</td>\n",
       "      <td>446.000000</td>\n",
       "      <td>446.000000</td>\n",
       "      <td>446.000000</td>\n",
       "      <td>446.000000</td>\n",
       "      <td>...</td>\n",
       "      <td>446.000000</td>\n",
       "      <td>446.000000</td>\n",
       "      <td>446.000000</td>\n",
       "      <td>446.000000</td>\n",
       "      <td>446.000000</td>\n",
       "      <td>446.000000</td>\n",
       "      <td>446.000000</td>\n",
       "      <td>446.000000</td>\n",
       "      <td>446.00000</td>\n",
       "      <td>446.000000</td>\n",
       "    </tr>\n",
       "    <tr>\n",
       "      <th>mean</th>\n",
       "      <td>439.887892</td>\n",
       "      <td>4.346355e+06</td>\n",
       "      <td>29.076233</td>\n",
       "      <td>3.387892</td>\n",
       "      <td>3.408072</td>\n",
       "      <td>0.479379</td>\n",
       "      <td>4.587937</td>\n",
       "      <td>28.143498</td>\n",
       "      <td>6.672646</td>\n",
       "      <td>6.825112</td>\n",
       "      <td>...</td>\n",
       "      <td>2.302691</td>\n",
       "      <td>253.105381</td>\n",
       "      <td>117.210762</td>\n",
       "      <td>4.333341</td>\n",
       "      <td>1.382312</td>\n",
       "      <td>8.967265</td>\n",
       "      <td>1.251345</td>\n",
       "      <td>3.473318</td>\n",
       "      <td>8.64148</td>\n",
       "      <td>3.081457</td>\n",
       "    </tr>\n",
       "    <tr>\n",
       "      <th>std</th>\n",
       "      <td>250.478277</td>\n",
       "      <td>5.842750e+06</td>\n",
       "      <td>3.591941</td>\n",
       "      <td>3.203893</td>\n",
       "      <td>2.769712</td>\n",
       "      <td>0.283506</td>\n",
       "      <td>3.137819</td>\n",
       "      <td>15.191868</td>\n",
       "      <td>9.116993</td>\n",
       "      <td>9.289157</td>\n",
       "      <td>...</td>\n",
       "      <td>2.393876</td>\n",
       "      <td>171.365947</td>\n",
       "      <td>70.856211</td>\n",
       "      <td>1.628891</td>\n",
       "      <td>0.446795</td>\n",
       "      <td>3.251434</td>\n",
       "      <td>0.938148</td>\n",
       "      <td>1.633905</td>\n",
       "      <td>2.19327</td>\n",
       "      <td>1.877630</td>\n",
       "    </tr>\n",
       "    <tr>\n",
       "      <th>min</th>\n",
       "      <td>4.000000</td>\n",
       "      <td>5.450000e+05</td>\n",
       "      <td>21.000000</td>\n",
       "      <td>0.000000</td>\n",
       "      <td>0.000000</td>\n",
       "      <td>0.000000</td>\n",
       "      <td>0.540000</td>\n",
       "      <td>1.000000</td>\n",
       "      <td>0.000000</td>\n",
       "      <td>0.000000</td>\n",
       "      <td>...</td>\n",
       "      <td>0.000000</td>\n",
       "      <td>11.000000</td>\n",
       "      <td>13.000000</td>\n",
       "      <td>1.230000</td>\n",
       "      <td>0.536000</td>\n",
       "      <td>3.700000</td>\n",
       "      <td>0.000000</td>\n",
       "      <td>0.500000</td>\n",
       "      <td>2.20000</td>\n",
       "      <td>0.290000</td>\n",
       "    </tr>\n",
       "    <tr>\n",
       "      <th>25%</th>\n",
       "      <td>229.250000</td>\n",
       "      <td>5.584250e+05</td>\n",
       "      <td>27.000000</td>\n",
       "      <td>1.000000</td>\n",
       "      <td>1.000000</td>\n",
       "      <td>0.333000</td>\n",
       "      <td>3.172500</td>\n",
       "      <td>18.000000</td>\n",
       "      <td>0.000000</td>\n",
       "      <td>0.000000</td>\n",
       "      <td>...</td>\n",
       "      <td>1.000000</td>\n",
       "      <td>129.250000</td>\n",
       "      <td>83.000000</td>\n",
       "      <td>3.390000</td>\n",
       "      <td>1.162250</td>\n",
       "      <td>7.500000</td>\n",
       "      <td>0.700000</td>\n",
       "      <td>2.400000</td>\n",
       "      <td>7.20000</td>\n",
       "      <td>1.947500</td>\n",
       "    </tr>\n",
       "    <tr>\n",
       "      <th>50%</th>\n",
       "      <td>430.000000</td>\n",
       "      <td>1.912500e+06</td>\n",
       "      <td>28.500000</td>\n",
       "      <td>2.000000</td>\n",
       "      <td>3.000000</td>\n",
       "      <td>0.500000</td>\n",
       "      <td>4.140000</td>\n",
       "      <td>24.000000</td>\n",
       "      <td>0.000000</td>\n",
       "      <td>4.000000</td>\n",
       "      <td>...</td>\n",
       "      <td>2.000000</td>\n",
       "      <td>199.000000</td>\n",
       "      <td>101.000000</td>\n",
       "      <td>4.120000</td>\n",
       "      <td>1.312500</td>\n",
       "      <td>8.600000</td>\n",
       "      <td>1.100000</td>\n",
       "      <td>3.200000</td>\n",
       "      <td>8.55000</td>\n",
       "      <td>2.710000</td>\n",
       "    </tr>\n",
       "    <tr>\n",
       "      <th>75%</th>\n",
       "      <td>655.500000</td>\n",
       "      <td>5.625000e+06</td>\n",
       "      <td>31.750000</td>\n",
       "      <td>5.000000</td>\n",
       "      <td>5.000000</td>\n",
       "      <td>0.667000</td>\n",
       "      <td>5.052500</td>\n",
       "      <td>41.750000</td>\n",
       "      <td>15.000000</td>\n",
       "      <td>9.000000</td>\n",
       "      <td>...</td>\n",
       "      <td>3.000000</td>\n",
       "      <td>364.750000</td>\n",
       "      <td>132.000000</td>\n",
       "      <td>4.970000</td>\n",
       "      <td>1.500000</td>\n",
       "      <td>9.700000</td>\n",
       "      <td>1.500000</td>\n",
       "      <td>4.100000</td>\n",
       "      <td>10.07500</td>\n",
       "      <td>3.597500</td>\n",
       "    </tr>\n",
       "    <tr>\n",
       "      <th>max</th>\n",
       "      <td>878.000000</td>\n",
       "      <td>3.400000e+07</td>\n",
       "      <td>41.000000</td>\n",
       "      <td>15.000000</td>\n",
       "      <td>14.000000</td>\n",
       "      <td>1.000000</td>\n",
       "      <td>45.000000</td>\n",
       "      <td>59.000000</td>\n",
       "      <td>25.000000</td>\n",
       "      <td>52.000000</td>\n",
       "      <td>...</td>\n",
       "      <td>15.000000</td>\n",
       "      <td>680.000000</td>\n",
       "      <td>825.000000</td>\n",
       "      <td>17.150000</td>\n",
       "      <td>7.000000</td>\n",
       "      <td>54.000000</td>\n",
       "      <td>9.000000</td>\n",
       "      <td>11.400000</td>\n",
       "      <td>16.20000</td>\n",
       "      <td>16.330000</td>\n",
       "    </tr>\n",
       "  </tbody>\n",
       "</table>\n",
       "<p>8 rows × 33 columns</p>\n",
       "</div>"
      ],
      "text/plain": [
       "               Rk   2018_salary         Age           W           L  \\\n",
       "count  446.000000  4.460000e+02  446.000000  446.000000  446.000000   \n",
       "mean   439.887892  4.346355e+06   29.076233    3.387892    3.408072   \n",
       "std    250.478277  5.842750e+06    3.591941    3.203893    2.769712   \n",
       "min      4.000000  5.450000e+05   21.000000    0.000000    0.000000   \n",
       "25%    229.250000  5.584250e+05   27.000000    1.000000    1.000000   \n",
       "50%    430.000000  1.912500e+06   28.500000    2.000000    3.000000   \n",
       "75%    655.500000  5.625000e+06   31.750000    5.000000    5.000000   \n",
       "max    878.000000  3.400000e+07   41.000000   15.000000   14.000000   \n",
       "\n",
       "             W-L%         ERA           G          GS          GF     ...      \\\n",
       "count  446.000000  446.000000  446.000000  446.000000  446.000000     ...       \n",
       "mean     0.479379    4.587937   28.143498    6.672646    6.825112     ...       \n",
       "std      0.283506    3.137819   15.191868    9.116993    9.289157     ...       \n",
       "min      0.000000    0.540000    1.000000    0.000000    0.000000     ...       \n",
       "25%      0.333000    3.172500   18.000000    0.000000    0.000000     ...       \n",
       "50%      0.500000    4.140000   24.000000    0.000000    4.000000     ...       \n",
       "75%      0.667000    5.052500   41.750000   15.000000    9.000000     ...       \n",
       "max      1.000000   45.000000   59.000000   25.000000   52.000000     ...       \n",
       "\n",
       "               WP          BF        ERA+         FIP        WHIP          H9  \\\n",
       "count  446.000000  446.000000  446.000000  446.000000  446.000000  446.000000   \n",
       "mean     2.302691  253.105381  117.210762    4.333341    1.382312    8.967265   \n",
       "std      2.393876  171.365947   70.856211    1.628891    0.446795    3.251434   \n",
       "min      0.000000   11.000000   13.000000    1.230000    0.536000    3.700000   \n",
       "25%      1.000000  129.250000   83.000000    3.390000    1.162250    7.500000   \n",
       "50%      2.000000  199.000000  101.000000    4.120000    1.312500    8.600000   \n",
       "75%      3.000000  364.750000  132.000000    4.970000    1.500000    9.700000   \n",
       "max     15.000000  680.000000  825.000000   17.150000    7.000000   54.000000   \n",
       "\n",
       "              HR9         BB9        SO9        SO/W  \n",
       "count  446.000000  446.000000  446.00000  446.000000  \n",
       "mean     1.251345    3.473318    8.64148    3.081457  \n",
       "std      0.938148    1.633905    2.19327    1.877630  \n",
       "min      0.000000    0.500000    2.20000    0.290000  \n",
       "25%      0.700000    2.400000    7.20000    1.947500  \n",
       "50%      1.100000    3.200000    8.55000    2.710000  \n",
       "75%      1.500000    4.100000   10.07500    3.597500  \n",
       "max      9.000000   11.400000   16.20000   16.330000  \n",
       "\n",
       "[8 rows x 33 columns]"
      ]
     },
     "execution_count": 9,
     "metadata": {},
     "output_type": "execute_result"
    }
   ],
   "source": [
    "df.describe()"
   ]
  },
  {
   "cell_type": "markdown",
   "metadata": {},
   "source": [
    "Now we are ready to begin the process of creating our Database and table. First we need to make sure that we are clearing any running pool managers."
   ]
  },
  {
   "cell_type": "code",
   "execution_count": 10,
   "metadata": {},
   "outputs": [],
   "source": [
    "sqlalchemy.pool.clear_managers()"
   ]
  },
  {
   "cell_type": "markdown",
   "metadata": {},
   "source": [
    "** IMPORTANT ** If you have a different `username` and `password` you need to make sure you change the next cell to match your credentials in order for this to work. The next cell creates a dictionary which is used to access the local MYSQL instance."
   ]
  },
  {
   "cell_type": "code",
   "execution_count": 11,
   "metadata": {},
   "outputs": [],
   "source": [
    "creds = dict(username = 'root',password = '', ip = '127.0.0.1')"
   ]
  },
  {
   "cell_type": "code",
   "execution_count": 12,
   "metadata": {},
   "outputs": [
    {
     "data": {
      "text/plain": [
       "{'username': 'root', 'password': '', 'ip': '127.0.0.1'}"
      ]
     },
     "execution_count": 12,
     "metadata": {},
     "output_type": "execute_result"
    }
   ],
   "source": [
    "creds"
   ]
  },
  {
   "cell_type": "code",
   "execution_count": 13,
   "metadata": {},
   "outputs": [],
   "source": [
    "conn = sqlalchemy.create_engine(\"mysql+mysqlconnector://{0}:{1}@{2}/\".format(creds['username'],\n",
    "                                                                               creds['password'],\n",
    "                                                                               creds['ip']), pool_size=10, max_overflow=20).connect()"
   ]
  },
  {
   "cell_type": "markdown",
   "metadata": {},
   "source": [
    "Run the next cells in order and this will create your database import our `xlsx` pitcher data into the MYSQL instance. "
   ]
  },
  {
   "cell_type": "code",
   "execution_count": 14,
   "metadata": {},
   "outputs": [
    {
     "data": {
      "text/plain": [
       "<sqlalchemy.engine.base.Connection at 0x112123470>"
      ]
     },
     "execution_count": 14,
     "metadata": {},
     "output_type": "execute_result"
    }
   ],
   "source": [
    "conn.connect()"
   ]
  },
  {
   "cell_type": "code",
   "execution_count": 16,
   "metadata": {},
   "outputs": [
    {
     "data": {
      "text/plain": [
       "<sqlalchemy.engine.result.ResultProxy at 0x1120fb5f8>"
      ]
     },
     "execution_count": 16,
     "metadata": {},
     "output_type": "execute_result"
    }
   ],
   "source": [
    "conn.execute(\"CREATE DATABASE Pitchers\")"
   ]
  },
  {
   "cell_type": "code",
   "execution_count": 17,
   "metadata": {},
   "outputs": [
    {
     "data": {
      "text/plain": [
       "<sqlalchemy.engine.result.ResultProxy at 0x1031bdf98>"
      ]
     },
     "execution_count": 17,
     "metadata": {},
     "output_type": "execute_result"
    }
   ],
   "source": [
    "conn.execute(\"USE Pitchers;\")"
   ]
  },
  {
   "cell_type": "code",
   "execution_count": 18,
   "metadata": {},
   "outputs": [],
   "source": [
    "df.to_sql(con=conn, name='mlb_stats_2018', if_exists='replace', chunksize=1000, index=False)"
   ]
  },
  {
   "cell_type": "code",
   "execution_count": 19,
   "metadata": {},
   "outputs": [
    {
     "name": "stdout",
     "output_type": "stream",
     "text": [
      "(439, 'Clayton Kershaw', 34000000.0, 30, 'LAD', 'NL', 5, 5, 0.5, 2.58, 17, 17, 0, 0, 0, 0, 101.1, 89, 32, 29, 10, 19, 0, 99, 2, 0, 8, 409, 154.0, 3.1, 1.066, 7.9, 0.9, 1.7, 8.8, 5.21)\n",
      "(332, 'Zack Greinke', 31954483.0, 34, 'ARI', 'NL', 12, 7, 0.632, 2.89, 24, 24, 0, 0, 0, 0, 149.2, 127, 49, 48, 20, 29, 1, 152, 4, 0, 0, 598, 151.0, 3.52, 1.042, 7.6, 1.2, 1.7, 9.1, 5.24)\n",
      "(30, 'Jake Arrieta', 30000000.0, 32, 'PHI', 'NL', 9, 6, 0.6, 3.11, 22, 22, 0, 0, 0, 0, 127.1, 113, 61, 44, 11, 40, 0, 91, 4, 0, 9, 520, 134.0, 3.88, 1.202, 8.0, 0.8, 2.8, 6.4, 2.28)\n",
      "(639, 'David Price', 30000000.0, 32, 'BOS', 'AL', 12, 6, 0.667, 3.75, 23, 23, 0, 1, 0, 0, 134.1, 122, 59, 56, 18, 39, 0, 134, 7, 0, 1, 556, 115.0, 3.92, 1.199, 8.2, 1.2, 2.6, 9.0, 3.44)\n",
      "(829, 'Justin Verlander', 28000000.0, 35, 'HOU', 'AL', 11, 7, 0.611, 2.5, 25, 25, 0, 1, 1, 0, 158.1, 116, 47, 44, 22, 28, 0, 206, 7, 2, 2, 619, 158.0, 3.02, 0.909, 6.6, 1.3, 1.6, 11.7, 7.36)\n"
     ]
    }
   ],
   "source": [
    "rs = conn.execute('SELECT * FROM mlb_stats_2018 LIMIT 5;')\n",
    "\n",
    "for row in rs:\n",
    "    print(row)"
   ]
  },
  {
   "cell_type": "markdown",
   "metadata": {},
   "source": [
    "If you are seeing data above then your database is filled with the 2018 mlb pitcher data. If you received any errors here check your local mysql server and be sure that it is running and installed correctly on your local machine."
   ]
  },
  {
   "cell_type": "code",
   "execution_count": 20,
   "metadata": {},
   "outputs": [],
   "source": [
    "conn.close()"
   ]
  }
 ],
 "metadata": {
  "kernelspec": {
   "display_name": "Python 3",
   "language": "python",
   "name": "python3"
  },
  "language_info": {
   "codemirror_mode": {
    "name": "ipython",
    "version": 3
   },
   "file_extension": ".py",
   "mimetype": "text/x-python",
   "name": "python",
   "nbconvert_exporter": "python",
   "pygments_lexer": "ipython3",
   "version": "3.6.6"
  }
 },
 "nbformat": 4,
 "nbformat_minor": 2
}
